{
 "cells": [
  {
   "cell_type": "code",
   "execution_count": null,
   "metadata": {
    "id": "ur8xi4C7S06n"
   },
   "outputs": [],
   "source": [
    "# Copyright 2024 Google LLC\n",
    "#\n",
    "# Licensed under the Apache License, Version 2.0 (the \"License\");\n",
    "# you may not use this file except in compliance with the License.\n",
    "# You may obtain a copy of the License at\n",
    "#\n",
    "#     https://www.apache.org/licenses/LICENSE-2.0\n",
    "#\n",
    "# Unless required by applicable law or agreed to in writing, software\n",
    "# distributed under the License is distributed on an \"AS IS\" BASIS,\n",
    "# WITHOUT WARRANTIES OR CONDITIONS OF ANY KIND, either express or implied.\n",
    "# See the License for the specific language governing permissions and\n",
    "# limitations under the License."
   ]
  },
  {
   "cell_type": "markdown",
   "metadata": {
    "id": "JAPoU8Sm5E6e"
   },
   "source": [
    "# Prompt Design - Best Practices\n",
    "\n",
    "<table align=\"left\">\n",
    "  <td style=\"text-align: center\">\n",
    "    <a href=\"https://colab.research.google.com/github/GoogleCloudPlatform/generative-ai/blob/main/gemini/prompts/intro_prompt_design.ipynb\">\n",
    "      <img src=\"https://cloud.google.com/ml-engine/images/colab-logo-32px.png\" alt=\"Google Colaboratory logo\"><br> Open in Colab\n",
    "    </a>\n",
    "  </td>\n",
    "  <td style=\"text-align: center\">\n",
    "    <a href=\"https://console.cloud.google.com/vertex-ai/colab/import/https:%2F%2Fraw.githubusercontent.com%2FGoogleCloudPlatform%2Fgenerative-ai%2Fmain%2Fgemini%2Fprompts%2Fintro_prompt_design.ipynb\">\n",
    "      <img width=\"32px\" src=\"https://lh3.googleusercontent.com/JmcxdQi-qOpctIvWKgPtrzZdJJK-J3sWE1RsfjZNwshCFgE_9fULcNpuXYTilIR2hjwN\" alt=\"Google Cloud Colab Enterprise logo\"><br> Open in Colab Enterprise\n",
    "    </a>\n",
    "  </td>    \n",
    "  <td style=\"text-align: center\">\n",
    "    <a href=\"https://console.cloud.google.com/vertex-ai/workbench/deploy-notebook?download_url=https://raw.githubusercontent.com/GoogleCloudPlatform/generative-ai/main/gemini/prompts/intro_prompt_design.ipynb\">\n",
    "      <img src=\"https://lh3.googleusercontent.com/UiNooY4LUgW_oTvpsNhPpQzsstV5W8F7rYgxgGBD85cWJoLmrOzhVs_ksK_vgx40SHs7jCqkTkCk=e14-rj-sc0xffffff-h130-w32\" alt=\"Vertex AI logo\"><br> Open in Workbench\n",
    "    </a>\n",
    "  </td>\n",
    "  <td style=\"text-align: center\">\n",
    "    <a href=\"https://github.com/GoogleCloudPlatform/generative-ai/blob/main/gemini/prompts/intro_prompt_design.ipynb\">\n",
    "      <img src=\"https://cloud.google.com/ml-engine/images/github-logo-32px.png\" alt=\"GitHub logo\"><br> View on GitHub\n",
    "    </a>\n",
    "  </td>\n",
    "  <td style=\"text-align: center\">\n",
    "    <a href=\"https://goo.gle/4fWHlze\">\n",
    "      <img width=\"32px\" src=\"https://cdn.qwiklabs.com/assets/gcp_cloud-e3a77215f0b8bfa9b3f611c0d2208c7e8708ed31.svg\" alt=\"Google Cloud logo\"><br> Open in  Cloud Skills Boost\n",
    "    </a>\n",
    "  </td>\n",
    "</table>\n",
    "\n",
    "<div style=\"clear: both;\"></div>\n",
    "\n",
    "<b>Share to:</b>\n",
    "\n",
    "<a href=\"https://www.linkedin.com/sharing/share-offsite/?url=https%3A//github.com/GoogleCloudPlatform/generative-ai/blob/main/gemini/prompts/intro_prompt_design.ipynb\" target=\"_blank\">\n",
    "  <img width=\"20px\" src=\"https://upload.wikimedia.org/wikipedia/commons/8/81/LinkedIn_icon.svg\" alt=\"LinkedIn logo\">\n",
    "</a>\n",
    "\n",
    "<a href=\"https://bsky.app/intent/compose?text=https%3A//github.com/GoogleCloudPlatform/generative-ai/blob/main/gemini/prompts/intro_prompt_design.ipynb\" target=\"_blank\">\n",
    "  <img width=\"20px\" src=\"https://upload.wikimedia.org/wikipedia/commons/7/7a/Bluesky_Logo.svg\" alt=\"Bluesky logo\">\n",
    "</a>\n",
    "\n",
    "<a href=\"https://twitter.com/intent/tweet?url=https%3A//github.com/GoogleCloudPlatform/generative-ai/blob/main/gemini/prompts/intro_prompt_design.ipynb\" target=\"_blank\">\n",
    "  <img width=\"20px\" src=\"https://upload.wikimedia.org/wikipedia/commons/5/53/X_logo_2023_original.svg\" alt=\"X logo\">\n",
    "</a>\n",
    "\n",
    "<a href=\"https://reddit.com/submit?url=https%3A//github.com/GoogleCloudPlatform/generative-ai/blob/main/gemini/prompts/intro_prompt_design.ipynb\" target=\"_blank\">\n",
    "  <img width=\"20px\" src=\"https://redditinc.com/hubfs/Reddit%20Inc/Brand/Reddit_Logo.png\" alt=\"Reddit logo\">\n",
    "</a>\n",
    "\n",
    "<a href=\"https://www.facebook.com/sharer/sharer.php?u=https%3A//github.com/GoogleCloudPlatform/generative-ai/blob/main/gemini/prompts/intro_prompt_design.ipynb\" target=\"_blank\">\n",
    "  <img width=\"20px\" src=\"https://upload.wikimedia.org/wikipedia/commons/5/51/Facebook_f_logo_%282019%29.svg\" alt=\"Facebook logo\">\n",
    "</a>            "
   ]
  },
  {
   "cell_type": "markdown",
   "metadata": {
    "id": "84f0f73a0f76"
   },
   "source": [
    "| | |\n",
    "|-|-|\n",
    "|Author(s) | [Polong Lin](https://github.com/polong-lin), [Karl Weinmeister](https://github.com/kweinmeister) |"
   ]
  },
  {
   "cell_type": "markdown",
   "metadata": {
    "id": "tvgnzT1CKxrO"
   },
   "source": [
    "## Overview\n",
    "\n",
    "This notebook covers the essentials of prompt engineering, including some best practices.\n",
    "\n",
    "Learn more about prompt design in the [official documentation](https://cloud.google.com/vertex-ai/docs/generative-ai/text/text-overview).\n",
    "\n",
    "In this notebook, you learn best practices around prompt engineering -- how to design prompts to improve the quality of your responses.\n",
    "\n",
    "This notebook covers the following best practices for prompt engineering:\n",
    "\n",
    "- Be concise\n",
    "- Be specific and well-defined\n",
    "- Ask one task at a time\n",
    "- Turn generative tasks into classification tasks\n",
    "- Improve response quality by including examples"
   ]
  },
  {
   "cell_type": "markdown",
   "metadata": {
    "id": "61RBz8LLbxCR"
   },
   "source": [
    "## Getting Started"
   ]
  },
  {
   "cell_type": "markdown",
   "metadata": {
    "id": "No17Cw5hgx12"
   },
   "source": [
    "### Install Google Gen AI SDK\n"
   ]
  },
  {
   "cell_type": "code",
   "execution_count": 1,
   "metadata": {
    "id": "tFy3H3aPgx12",
    "tags": []
   },
   "outputs": [
    {
     "name": "stdout",
     "output_type": "stream",
     "text": [
      "\n",
      "\u001b[1m[\u001b[0m\u001b[34;49mnotice\u001b[0m\u001b[1;39;49m]\u001b[0m\u001b[39;49m A new release of pip is available: \u001b[0m\u001b[31;49m25.0\u001b[0m\u001b[39;49m -> \u001b[0m\u001b[32;49m25.0.1\u001b[0m\n",
      "\u001b[1m[\u001b[0m\u001b[34;49mnotice\u001b[0m\u001b[1;39;49m]\u001b[0m\u001b[39;49m To update, run: \u001b[0m\u001b[32;49mpip install --upgrade pip\u001b[0m\n",
      "Note: you may need to restart the kernel to use updated packages.\n"
     ]
    }
   ],
   "source": [
    "%pip install --upgrade --quiet google-genai"
   ]
  },
  {
   "cell_type": "markdown",
   "metadata": {
    "id": "R5Xep4W9lq-Z"
   },
   "source": [
    "### Restart runtime\n",
    "\n",
    "To use the newly installed packages in this Jupyter runtime, you must restart the runtime. You can do this by running the cell below, which will restart the current kernel."
   ]
  },
  {
   "cell_type": "code",
   "execution_count": 1,
   "metadata": {
    "id": "XRvKdaPDTznN",
    "tags": []
   },
   "outputs": [
    {
     "data": {
      "text/plain": [
       "{'status': 'ok', 'restart': True}"
      ]
     },
     "execution_count": 1,
     "metadata": {},
     "output_type": "execute_result"
    }
   ],
   "source": [
    "import IPython\n",
    "\n",
    "app = IPython.Application.instance()\n",
    "app.kernel.do_shutdown(True)"
   ]
  },
  {
   "cell_type": "markdown",
   "metadata": {
    "id": "SbmM4z7FOBpM"
   },
   "source": [
    "<div class=\"alert alert-block alert-warning\">\n",
    "<b>⚠️ The kernel is going to restart. Please wait until it is finished before continuing to the next step. ⚠️</b>\n",
    "</div>\n"
   ]
  },
  {
   "cell_type": "markdown",
   "metadata": {
    "id": "dmWOrTJ3gx13"
   },
   "source": [
    "### Authenticate your notebook environment (Colab only)\n",
    "\n",
    "Authenticate your environment on Google Colab.\n"
   ]
  },
  {
   "cell_type": "code",
   "execution_count": null,
   "metadata": {
    "id": "NyKGtVQjgx13"
   },
   "outputs": [],
   "source": [
    "import sys\n",
    "\n",
    "if \"google.colab\" in sys.modules:\n",
    "    from google.colab import auth\n",
    "\n",
    "    auth.authenticate_user()"
   ]
  },
  {
   "cell_type": "markdown",
   "metadata": {
    "id": "06489bd14f16"
   },
   "source": [
    "### Import libraries\n"
   ]
  },
  {
   "cell_type": "code",
   "execution_count": 1,
   "metadata": {
    "id": "154137022fb6",
    "tags": []
   },
   "outputs": [],
   "source": [
    "from IPython.display import Markdown, display\n",
    "from google import genai\n",
    "from google.genai.types import GenerateContentConfig"
   ]
  },
  {
   "cell_type": "markdown",
   "metadata": {
    "id": "DF4l8DTdWgPY"
   },
   "source": [
    "### Set Google Cloud project information and create client\n",
    "\n",
    "To get started using Vertex AI, you must have an existing Google Cloud project and [enable the Vertex AI API](https://console.cloud.google.com/flows/enableapi?apiid=aiplatform.googleapis.com).\n",
    "\n",
    "Learn more about [setting up a project and a development environment](https://cloud.google.com/vertex-ai/docs/start/cloud-environment)."
   ]
  },
  {
   "cell_type": "code",
   "execution_count": 3,
   "metadata": {
    "id": "Nqwi-5ufWp_B",
    "tags": []
   },
   "outputs": [],
   "source": [
    "import os\n",
    "\n",
    "PROJECT_ID = \"qwiklabs-gcp-03-89d9309b0185\"  # @param {type: \"string\", placeholder: \"[your-project-id]\", isTemplate: true}\n",
    "if not PROJECT_ID or PROJECT_ID == \"qwiklabs-gcp-03-89d9309b0185\":\n",
    "    PROJECT_ID = str(os.environ.get(\"GOOGLE_CLOUD_PROJECT\"))\n",
    "\n",
    "LOCATION = os.environ.get(\"GOOGLE_CLOUD_REGION\", \"europe-west1\")"
   ]
  },
  {
   "cell_type": "code",
   "execution_count": 4,
   "metadata": {
    "id": "QqRWdPGmW3NJ",
    "tags": []
   },
   "outputs": [],
   "source": [
    "client = genai.Client(vertexai=True, project=PROJECT_ID, location=LOCATION)"
   ]
  },
  {
   "cell_type": "markdown",
   "metadata": {
    "id": "OnFPpCRtXRl4"
   },
   "source": [
    "### Load model\n",
    "\n",
    "Learn more about all [Gemini models on Vertex AI](https://cloud.google.com/vertex-ai/generative-ai/docs/learn/models#gemini-models)."
   ]
  },
  {
   "cell_type": "code",
   "execution_count": 5,
   "metadata": {
    "id": "IQYu_9SvXQah",
    "tags": []
   },
   "outputs": [],
   "source": [
    "MODEL_ID = \"gemini-2.0-flash-001\"  # @param {type: \"string\"}"
   ]
  },
  {
   "cell_type": "markdown",
   "metadata": {
    "id": "cVOtUNJ5X0PY"
   },
   "source": [
    "## Prompt engineering best practices"
   ]
  },
  {
   "cell_type": "markdown",
   "metadata": {
    "id": "uv_e0fEPX60q"
   },
   "source": [
    "Prompt engineering is all about how to design your prompts so that the response is what you were indeed hoping to see.\n",
    "\n",
    "The idea of using \"unfancy\" prompts is to minimize the noise in your prompt to reduce the possibility of the LLM misinterpreting the intent of the prompt. Below are a few guidelines on how to engineer \"unfancy\" prompts.\n",
    "\n",
    "In this section, you'll cover the following best practices when engineering prompts:\n",
    "\n",
    "* Be concise\n",
    "* Be specific, and well-defined\n",
    "* Ask one task at a time\n",
    "* Improve response quality by including examples\n",
    "* Turn generative tasks to classification tasks to improve safety"
   ]
  },
  {
   "cell_type": "markdown",
   "metadata": {
    "id": "0pY4XX0OX9_Y"
   },
   "source": [
    "### Be concise"
   ]
  },
  {
   "cell_type": "markdown",
   "metadata": {
    "id": "xlRpxyxGYA1K"
   },
   "source": [
    "🛑 Not recommended. The prompt below is unnecessarily verbose."
   ]
  },
  {
   "cell_type": "code",
   "execution_count": 6,
   "metadata": {
    "id": "YKV4G-CfXdbi",
    "tags": []
   },
   "outputs": [
    {
     "data": {
      "text/markdown": [
       "Okay, here are some name ideas for a dried flower shop, playing on different angles like preservation, artistry, nature, and a modern feel:\n",
       "\n",
       "**Emphasizing Preservation & Time:**\n",
       "\n",
       "*   **The Everbloom:** Simple, elegant, and clearly communicates lasting beauty.\n",
       "*   **Timeless Blooms:** Similar to Everbloom, highlighting the longevity of the arrangements.\n",
       "*   **Dried & Dusted:** A touch whimsical, suggesting the preservation process.\n",
       "*   **The Conservatory:** Evokes a sense of history and preservation.\n",
       "*   **Amber Flora:** Amber suggests preservation and a warm, golden tone.\n",
       "*   **Keepsake Blooms:** Focuses on the sentimental value of dried flowers.\n",
       "\n",
       "**Emphasizing Artistry & Design:**\n",
       "\n",
       "*   **Petrified Petals:**  Edgy and memorable, alludes to the drying process.\n",
       "*   **The Artful Bloom:** Highlights the artistic arrangement of the flowers.\n",
       "*   **Dried Canvas:** Suggests the dried flowers are the medium for art.\n",
       "*   **Floral Alchemy:** Implies transformation and beauty through a special process.\n",
       "*   **Botanical Studio:**  Professional and art-focused.\n",
       "*   **The Gathered Stem:** Suggests a curated collection of unique flowers.\n",
       "\n",
       "**Emphasizing Nature & Earthiness:**\n",
       "\n",
       "*   **Whispering Stems:** Evokes a sense of delicate beauty and nature.\n",
       "*   **Golden Harvest Florals:** Suggests the natural process of drying and a warm color palette.\n",
       "*   **The Dried Meadow:**  Creates a natural, rustic image.\n",
       "*   **Earth & Bloom:** Simple and grounded, connecting to the natural origins.\n",
       "*   **Fields of Forever:**  Romantic and evocative of a natural landscape.\n",
       "*   **Sun-Kissed Florals:** Connects the drying process to the sun.\n",
       "\n",
       "**Modern & Trendy:**\n",
       "\n",
       "*   **The Dry Bar:**  Playful and modern, suggesting a curated selection.\n",
       "*   **Bloom Haus:**  Modern German influence, simple and stylish.\n",
       "*   **Unwilted:** Short, catchy, and directly addresses the difference from fresh flowers.\n",
       "*   **Still Life Florals:**  Sophisticated and artistic, referencing still life paintings.\n",
       "*   **The Dry Petal:** Simple and easy to remember.\n",
       "*   **Anthology of Blooms:** Suggests a curated collection.\n",
       "\n",
       "**Tips for Choosing:**\n",
       "\n",
       "*   **Consider your target audience:** Are you aiming for a modern, minimalist aesthetic or a more rustic, vintage vibe?\n",
       "*   **Check for availability:** Make sure the name isn't already in use in your area (or online).\n",
       "*   **Say it out loud:** Does the name sound good and roll off the tongue?\n",
       "*   **Get feedback:** Ask friends, family, or potential customers for their opinions.\n",
       "*   **Think about your branding:** How will the name translate visually into your logo and store design?\n",
       "\n",
       "I hope this list gives you a good starting point! Good luck!\n"
      ],
      "text/plain": [
       "<IPython.core.display.Markdown object>"
      ]
     },
     "metadata": {},
     "output_type": "display_data"
    }
   ],
   "source": [
    "prompt = \"What do you think could be a good name for a flower shop that specializes in selling bouquets of dried flowers more than fresh flowers?\"\n",
    "\n",
    "response = client.models.generate_content(model=MODEL_ID, contents=prompt)\n",
    "display(Markdown(response.text))"
   ]
  },
  {
   "cell_type": "markdown",
   "metadata": {
    "id": "YrJexRHJYnmC"
   },
   "source": [
    "✅ Recommended. The prompt below is to the point and concise."
   ]
  },
  {
   "cell_type": "code",
   "execution_count": 8,
   "metadata": {
    "id": "VHetn9lCYrXB",
    "tags": []
   },
   "outputs": [
    {
     "data": {
      "text/markdown": [
       "Okay, here are some name suggestions for a dried flower shop, playing on different aspects like preservation, natural beauty, and artistry:\n",
       "\n",
       "**Emphasizing Preservation & Longevity:**\n",
       "\n",
       "*   The Everbloom\n",
       "*   Lasting Petals\n",
       "*   The Timeless Bloom\n",
       "*   Preserved Petals\n",
       "*   Forever in Bloom\n",
       "*   The Enduring Bouquet\n",
       "*   The Dried Stalk\n",
       "*   The Immortal Bloom\n",
       "\n",
       "**Highlighting Natural Beauty & Artistry:**\n",
       "\n",
       "*   Whispering Stems\n",
       "*   Golden Fields Florals\n",
       "*   Rustic Blooms\n",
       "*   The Dried Garden\n",
       "*   Harvested Hues\n",
       "*   Nature's Palette (Dried)\n",
       "*   Earth & Ether Florals\n",
       "*   Faded Florals\n",
       "*   The Crafted Bloom\n",
       "\n",
       "**More Unique & Evocative:**\n",
       "\n",
       "*   The Still Life Florist\n",
       "*   Amber & Bloom\n",
       "*   The Petal Alchemist\n",
       "*   Serene Stems\n",
       "*   The Slow Bloom\n",
       "*   Bloom & Bone (if you have a slightly more edgy aesthetic)\n",
       "*   Paper Petals\n",
       "\n",
       "**Modern & Simple:**\n",
       "\n",
       "*   Dried Flowers Co.\n",
       "*   The Dried Flower Shop\n",
       "*   [Your City/Town] Dried\n",
       "*   Stems & Stasis\n",
       "\n",
       "**Tips for Choosing:**\n",
       "\n",
       "*   **Consider your target audience:** Are you aiming for a rustic, romantic, modern, or high-end feel?\n",
       "*   **Check for availability:** Make sure the name isn't already in use (especially locally) and that you can secure a website domain and social media handles.\n",
       "*   **Say it out loud:** Does it roll off the tongue easily? Is it memorable?\n",
       "*   **Get feedback:** Ask friends, family, or potential customers what they think of your top choices.\n",
       "\n",
       "Good luck choosing the perfect name!\n"
      ],
      "text/plain": [
       "<IPython.core.display.Markdown object>"
      ]
     },
     "metadata": {},
     "output_type": "display_data"
    }
   ],
   "source": [
    "prompt = \"Suggest a name for a flower shop that sells bouquets of dried flowers\"\n",
    "\n",
    "response = client.models.generate_content(model=MODEL_ID, contents=prompt)\n",
    "display(Markdown(response.text))"
   ]
  },
  {
   "cell_type": "markdown",
   "metadata": {
    "id": "eXTAvdOHY0OC"
   },
   "source": [
    "### Be specific, and well-defined"
   ]
  },
  {
   "cell_type": "markdown",
   "metadata": {
    "id": "FTH4GEIgY1dp"
   },
   "source": [
    "Suppose that you want to brainstorm creative ways to describe Earth."
   ]
  },
  {
   "cell_type": "markdown",
   "metadata": {
    "id": "o5BmXBiGY4KC"
   },
   "source": [
    "🛑 The prompt below might be a bit too generic (which is certainly OK if you'd like to ask a generic question!)"
   ]
  },
  {
   "cell_type": "code",
   "execution_count": 9,
   "metadata": {
    "id": "eHBaMvv7Y6mR",
    "tags": []
   },
   "outputs": [
    {
     "data": {
      "text/markdown": [
       "Okay, let's dive into the wonders of Earth, our home planet! Here's a comprehensive overview:\n",
       "\n",
       "**Basic Facts:**\n",
       "\n",
       "*   **Name:** Earth (also referred to as Terra)\n",
       "*   **Planet Number:** Third planet from the Sun in our Solar System.\n",
       "*   **Type:** Terrestrial planet (rocky and solid).\n",
       "*   **Diameter:** Roughly 12,742 kilometers (7,918 miles)\n",
       "*   **Circumference:** Approximately 40,075 kilometers (24,901 miles) at the equator.\n",
       "*   **Mass:** 5.97 x 10^24 kg (a very large number!)\n",
       "*   **Distance from the Sun:** Average distance of 149.6 million kilometers (93 million miles). This distance is also called one Astronomical Unit (AU).\n",
       "*   **Orbital Period (Year):** 365.25 days (hence the need for leap years).\n",
       "*   **Rotation Period (Day):** Approximately 24 hours (23 hours, 56 minutes, and 4 seconds).\n",
       "*   **Axial Tilt:** 23.5 degrees (responsible for our seasons).\n",
       "*   **Atmosphere:** Primarily nitrogen (78%) and oxygen (21%), with trace amounts of argon, carbon dioxide, and other gases.\n",
       "*   **Surface:** Approximately 71% covered by water (oceans, lakes, rivers, ice), and 29% land (continents, islands).\n",
       "*   **Moons:** One natural satellite, the Moon (Luna).\n",
       "*   **Rings:** Earth does not have a ring system like Saturn.\n",
       "*   **Magnetic Field:** Yes, a strong magnetic field protects us from harmful solar radiation.\n",
       "*   **Population:** Approximately 8 billion people (as of 2023).\n",
       "*   **Age:** Approximately 4.54 billion years old.\n",
       "\n",
       "**Internal Structure:**\n",
       "\n",
       "Earth has a layered structure:\n",
       "\n",
       "*   **Inner Core:** A solid sphere of iron and nickel, under immense pressure and heat (around 5,200°C or 9,392°F).\n",
       "*   **Outer Core:** A liquid layer of iron and nickel, also extremely hot. The movement of this liquid is believed to generate Earth's magnetic field through a process called the geodynamo.\n",
       "*   **Mantle:** A thick layer of mostly solid rock, making up about 84% of Earth's volume.  The mantle is divided into the upper and lower mantle. The asthenosphere, a partially molten layer within the upper mantle, allows the tectonic plates to move.\n",
       "*   **Crust:** The outermost solid layer, relatively thin compared to the other layers. There are two types of crust:\n",
       "    *   **Oceanic Crust:** Thinner and denser, composed mainly of basalt.\n",
       "    *   **Continental Crust:** Thicker and less dense, composed mainly of granite.\n",
       "\n",
       "**Surface Features and Processes:**\n",
       "\n",
       "*   **Continents:** Large landmasses: Africa, Antarctica, Asia, Australia, Europe, North America, South America.\n",
       "*   **Oceans:** Vast bodies of saltwater: Arctic, Atlantic, Indian, Pacific, Southern.\n",
       "*   **Mountains:** Formed by tectonic plate collisions, volcanic activity, or erosion.\n",
       "*   **Valleys:** Formed by erosion or tectonic activity.\n",
       "*   **Plains:** Flat, low-lying areas.\n",
       "*   **Deserts:** Arid regions with little rainfall.\n",
       "*   **Volcanoes:** Openings in the Earth's crust where molten rock (magma), ash, and gases erupt.\n",
       "*   **Earthquakes:** Caused by the sudden release of energy in the Earth's crust, often along fault lines (boundaries between tectonic plates).\n",
       "*   **Weather:** The state of the atmosphere at a particular place and time, including temperature, humidity, wind, precipitation, and cloud cover.\n",
       "*   **Climate:** The long-term average weather patterns in a region.\n",
       "*   **Erosion:** The process of wearing away and transporting soil and rock by wind, water, ice, or gravity.\n",
       "*   **Plate Tectonics:** The theory that the Earth's lithosphere (crust and upper mantle) is divided into several large and small plates that move and interact with each other, causing earthquakes, volcanoes, and mountain building.\n",
       "\n",
       "**Atmosphere:**\n",
       "\n",
       "*   **Layers:** Troposphere, Stratosphere, Mesosphere, Thermosphere, Exosphere.\n",
       "*   **Importance:**\n",
       "    *   Provides breathable air for life.\n",
       "    *   Protects us from harmful solar radiation (UV rays) through the ozone layer in the stratosphere.\n",
       "    *   Moderates temperature through the greenhouse effect (caused by gases like carbon dioxide, water vapor, and methane).\n",
       "    *   Allows for weather patterns and climate.\n",
       "\n",
       "**Life:**\n",
       "\n",
       "*   Earth is the only known planet to harbor life.\n",
       "*   Life is incredibly diverse, ranging from microscopic bacteria to giant whales and towering trees.\n",
       "*   The presence of liquid water, a suitable atmosphere, and a stable temperature range are crucial for life as we know it.\n",
       "\n",
       "**The Moon:**\n",
       "\n",
       "*   Earth's only natural satellite.\n",
       "*   Orbits Earth at an average distance of about 384,400 kilometers (238,900 miles).\n",
       "*   Its gravitational pull causes tides on Earth.\n",
       "*   Believed to have formed from a giant impact between Earth and a Mars-sized object early in the Solar System's history.\n",
       "\n",
       "**Earth in the Solar System:**\n",
       "\n",
       "*   Located in the \"habitable zone\" of our Solar System, where temperatures are suitable for liquid water to exist on the surface.\n",
       "*   Positioned between Venus (hotter) and Mars (colder).\n",
       "*   Influenced by the Sun's gravity and energy.\n",
       "*   Affected by interactions with other planets and celestial bodies.\n",
       "\n",
       "**Unique Characteristics of Earth:**\n",
       "\n",
       "*   **Liquid Water:** Abundant liquid water on the surface is essential for life.\n",
       "*   **Plate Tectonics:** The ongoing movement of tectonic plates shapes the Earth's surface and plays a role in the carbon cycle.\n",
       "*   **Oxygen-Rich Atmosphere:** The high concentration of oxygen in the atmosphere is a result of photosynthesis by plants and other organisms.\n",
       "*   **Life:** The presence of a diverse and thriving biosphere.\n",
       "\n",
       "**Human Impact:**\n",
       "\n",
       "*   **Climate Change:**  Burning fossil fuels, deforestation, and other human activities are increasing greenhouse gas concentrations in the atmosphere, leading to global warming and climate change.\n",
       "*   **Pollution:**  Air and water pollution from industrial activities, agriculture, and waste disposal.\n",
       "*   **Deforestation:**  Clearing forests for agriculture, logging, and development.\n",
       "*   **Overpopulation:**  The growing human population puts a strain on resources and the environment.\n",
       "*   **Habitat Loss:**  Destruction of natural habitats for human use.\n",
       "*   **Extinction:**  Loss of biodiversity due to habitat loss, pollution, and climate change.\n",
       "\n",
       "**Studying Earth:**\n",
       "\n",
       "*   Scientists use a variety of tools and techniques to study Earth, including satellites, ground-based observatories, computer models, and field research.\n",
       "*   Disciplines involved in Earth science include:\n",
       "    *   Geology\n",
       "    *   Oceanography\n",
       "    *   Atmospheric Science\n",
       "    *   Environmental Science\n",
       "    *   Astronomy\n",
       "\n",
       "**Why is Earth so special?**\n",
       "\n",
       "Earth is special because it's the only place we know of that can support life. Its unique combination of liquid water, a breathable atmosphere, a stable climate, and a protective magnetic field make it a truly remarkable planet. Understanding Earth and its processes is crucial for preserving our planet and ensuring a sustainable future.\n"
      ],
      "text/plain": [
       "<IPython.core.display.Markdown object>"
      ]
     },
     "metadata": {},
     "output_type": "display_data"
    }
   ],
   "source": [
    "prompt = \"Tell me about Earth\"\n",
    "\n",
    "response = client.models.generate_content(model=MODEL_ID, contents=prompt)\n",
    "display(Markdown(response.text))"
   ]
  },
  {
   "cell_type": "markdown",
   "metadata": {
    "id": "4iyvEbteZnFL"
   },
   "source": [
    "✅ Recommended. The prompt below is specific and well-defined."
   ]
  },
  {
   "cell_type": "code",
   "execution_count": 10,
   "metadata": {
    "id": "JQ80z8urZnne",
    "tags": []
   },
   "outputs": [
    {
     "data": {
      "text/markdown": [
       "Earth is unique compared to other planets in our solar system, and likely in many other planetary systems, in a multitude of ways. Here's a list of some of the key factors:\n",
       "\n",
       "**Essential for Life:**\n",
       "\n",
       "*   **Liquid Water on the Surface:** This is arguably the most crucial factor. Earth exists within the \"habitable zone\" (Goldilocks zone) where temperatures allow water to exist in its liquid state, essential for all known life.\n",
       "*   **Oxygen-Rich Atmosphere:** Earth's atmosphere is about 21% oxygen, a highly reactive element that supports complex life forms. This oxygen is primarily produced by photosynthetic organisms.\n",
       "*   **Stable Temperature:** The combination of atmosphere, water, and distance from the sun creates a relatively stable temperature range, avoiding extremes of heat and cold found on other planets.\n",
       "*   **Magnetic Field:** Earth's magnetic field deflects harmful solar radiation and cosmic rays, protecting life and preventing atmospheric stripping.\n",
       "*   **Plate Tectonics:** The movement of Earth's crust creates a dynamic environment, recycling nutrients, regulating the carbon cycle, and shaping the landscape, potentially contributing to the long-term habitability of the planet.\n",
       "*   **Presence of Life (Specifically Complex Life):** Earth is the only planet known to harbor life, especially complex, multicellular organisms. This includes diverse ecosystems and intelligent beings.\n",
       "*   **Ozone Layer:** A layer of ozone in the stratosphere absorbs harmful ultraviolet radiation from the sun, further protecting life.\n",
       "\n",
       "**Physical and Geological Characteristics:**\n",
       "\n",
       "*   **Plate Tectonics (as mentioned above, but worth highlighting):** A dynamic geological process absent, or significantly reduced, on other terrestrial planets in our solar system.\n",
       "*   **Active Hydrological Cycle:** The continuous circulation of water between the oceans, atmosphere, and land, shaping landscapes and distributing heat.\n",
       "*   **Erosion:** The combined effects of water, wind, and ice erode and reshape the landscape, creating diverse environments.\n",
       "*   **A Large Natural Satellite (The Moon):** The Moon stabilizes Earth's axial tilt, contributing to stable seasons and potentially influencing ocean tides.\n",
       "*   **Density:** Earth is the densest planet in the solar system.\n",
       "*   **Shape:** While most planets are oblate spheroids, Earth's shape is more complex due to variations in gravity and topography, often referred to as a geoid.\n",
       "\n",
       "**Atmospheric Uniqueness:**\n",
       "\n",
       "*   **Nitrogen-Dominated Atmosphere:** While oxygen is crucial, the atmosphere is primarily nitrogen (about 78%), which acts as a buffer and diluent for the highly reactive oxygen.\n",
       "*   **Complex Atmospheric Chemistry:** The interactions between different gases and particles in the atmosphere create a dynamic and complex chemical environment.\n",
       "\n",
       "**Beyond Specific Features - A Unique Combination:**\n",
       "\n",
       "*   **The Synergy of Features:** It's not just the individual features, but the unique combination of all these factors working together that makes Earth so special. The interplay between water, atmosphere, geology, and magnetic field creates a self-regulating system that supports life.\n",
       "\n",
       "It's important to remember that our understanding of other planets is still evolving. Future discoveries may reveal similarities or differences we haven't yet recognized. However, based on our current knowledge, Earth stands out as a truly unique and remarkable planet.\n"
      ],
      "text/plain": [
       "<IPython.core.display.Markdown object>"
      ]
     },
     "metadata": {},
     "output_type": "display_data"
    }
   ],
   "source": [
    "prompt = \"Generate a list of ways that makes Earth unique compared to other planets\"\n",
    "\n",
    "response = client.models.generate_content(model=MODEL_ID, contents=prompt)\n",
    "display(Markdown(response.text))"
   ]
  },
  {
   "cell_type": "markdown",
   "metadata": {
    "id": "R5kmfZYHZsJ7"
   },
   "source": [
    "### Ask one task at a time"
   ]
  },
  {
   "cell_type": "markdown",
   "metadata": {
    "id": "rsAezxeYZuUN"
   },
   "source": [
    "🛑 Not recommended. The prompt below has two parts to the question that could be asked separately."
   ]
  },
  {
   "cell_type": "code",
   "execution_count": 11,
   "metadata": {
    "id": "ElywPXpuZtWf",
    "tags": []
   },
   "outputs": [
    {
     "data": {
      "text/markdown": [
       "Okay, let's tackle these two questions. They're related in the sense that they both rely on understanding some underlying principles.\n",
       "\n",
       "**Boiling Water: Best Method**\n",
       "\n",
       "There's no single \"best\" method for boiling water. The \"best\" method depends on your needs and the resources you have available. Here's a breakdown of common methods and their pros and cons:\n",
       "\n",
       "*   **Electric Kettle:**\n",
       "\n",
       "    *   **Pros:** Very fast, convenient (auto shut-off), energy-efficient for small amounts, no need for a stovetop.\n",
       "    *   **Cons:** Requires electricity, can be less efficient for large amounts compared to a gas stove in some cases. Can be limited by capacity.\n",
       "*   **Stovetop (Gas or Electric):**\n",
       "\n",
       "    *   **Pros:** Versatile, works with any heat-safe pot, can boil large quantities, doesn't rely on electricity (gas stoves).\n",
       "    *   **Cons:** Can be slower than an electric kettle for small amounts, requires monitoring, less energy-efficient if the pot doesn't match the burner size.\n",
       "*   **Microwave:**\n",
       "\n",
       "    *   **Pros:** Fast for very small amounts (e.g., for a single cup of tea).\n",
       "    *   **Cons:** Can be uneven heating, potential for \"superheating\" (water becoming hotter than boiling point without bubbling, then erupting violently), not ideal for large quantities.\n",
       "*   **Induction Cooktop:**\n",
       "\n",
       "    *   **Pros:** Very fast, energy-efficient (heats the pot directly), precise temperature control.\n",
       "    *   **Cons:** Requires induction-compatible cookware, more expensive than traditional stovetops.\n",
       "*   **Campfire/Open Fire:**\n",
       "\n",
       "    *   **Pros:** Useful in situations where other methods aren't available (camping, emergencies).\n",
       "    *   **Cons:** Slow, difficult to control temperature, requires fuel (wood, etc.), safety concerns.\n",
       "\n",
       "**In summary:**\n",
       "\n",
       "*   **For speed and convenience for small amounts: Electric kettle**\n",
       "*   **For versatility and large quantities: Stovetop (gas or electric)**\n",
       "*   **For emergency situations: Campfire/Open Fire**\n",
       "*   **For efficiency and speed with the right cookware: Induction Cooktop**\n",
       "*   **For very small amounts and a quick fix: Microwave**\n",
       "\n",
       "**The Key to Boiling Water Quickly:**\n",
       "\n",
       "*   **Start with hot water (if your tap allows it).** This reduces the amount of energy needed to reach the boiling point.\n",
       "*   **Use a pot with a lid.**  A lid traps heat and prevents it from escaping, which significantly speeds up the boiling process.\n",
       "*   **Use an appropriate size pot for the amount of water.** Too large of a pot will increase the surface area and heat loss.\n",
       "\n",
       "**Why is the Sky Blue?**\n",
       "\n",
       "The sky is blue because of a phenomenon called **Rayleigh scattering.** Here's the simplified explanation:\n",
       "\n",
       "1.  **Sunlight enters the Earth's atmosphere.**  Sunlight is made up of all the colors of the rainbow.\n",
       "\n",
       "2.  **Sunlight hits air molecules.**  The atmosphere is full of tiny particles like nitrogen and oxygen molecules.\n",
       "\n",
       "3.  **Scattering occurs.** When sunlight hits these molecules, it is scattered in different directions.\n",
       "\n",
       "4.  **Blue light is scattered more.**  Blue and violet light have shorter wavelengths than other colors (red, orange, yellow, green). Shorter wavelengths are scattered more effectively by small particles. Rayleigh scattering is strongly dependent on wavelength; shorter wavelengths are scattered more intensely.\n",
       "\n",
       "5.  **We see blue.**  Because blue light is scattered much more than other colors, it's spread all over the sky. When we look up, we see this scattered blue light coming from all directions.\n",
       "\n",
       "**Why not violet?**\n",
       "\n",
       "Violet light is scattered even *more* than blue light. However, there are a couple of reasons why the sky appears blue instead of violet:\n",
       "\n",
       "*   **Sunlight contains less violet light than blue light.** The sun emits a spectrum of colors, and there's less violet to begin with.\n",
       "*   **Our eyes are more sensitive to blue light than violet light.** Our vision is slightly less sensitive to violet, so we perceive the scattered light as more blue.\n",
       "\n",
       "**Sunrise and Sunset (Red/Orange Skies):**\n",
       "\n",
       "At sunrise and sunset, the sunlight has to travel through much more of the atmosphere to reach our eyes.  This means that the blue light is scattered away almost entirely by the time it reaches us.  The longer wavelengths, like red and orange, are scattered less and are therefore more likely to reach our eyes, resulting in the reddish/orange hues we see.\n",
       "\n",
       "In short, the sky's color is a beautiful example of physics in action!\n"
      ],
      "text/plain": [
       "<IPython.core.display.Markdown object>"
      ]
     },
     "metadata": {},
     "output_type": "display_data"
    }
   ],
   "source": [
    "prompt = \"What's the best method of boiling water and why is the sky blue?\"\n",
    "\n",
    "response = client.models.generate_content(model=MODEL_ID, contents=prompt)\n",
    "display(Markdown(response.text))"
   ]
  },
  {
   "cell_type": "markdown",
   "metadata": {
    "id": "ejzahazBZ8vk"
   },
   "source": [
    "✅ Recommended. The prompts below asks one task a time."
   ]
  },
  {
   "cell_type": "code",
   "execution_count": 12,
   "metadata": {
    "id": "C5ckp2F0Z_Ba",
    "tags": []
   },
   "outputs": [
    {
     "data": {
      "text/markdown": [
       "The \"best\" method of boiling water depends on your priorities and the specific situation. Here's a breakdown of different methods and their pros and cons:\n",
       "\n",
       "**1. Electric Kettle:**\n",
       "\n",
       "*   **Pros:**\n",
       "    *   **Speed:** Generally the fastest method, especially for smaller quantities.\n",
       "    *   **Convenience:** Easy to use, often with automatic shut-off features for safety.\n",
       "    *   **Energy Efficiency:** Can be more energy-efficient than other methods, particularly when boiling small amounts.\n",
       "    *   **Precision:** Some kettles have temperature control, useful for tea brewing.\n",
       "*   **Cons:**\n",
       "    *   **Requires Electricity:** Need a power outlet.\n",
       "    *   **Capacity Limit:** Limited by the kettle's size.\n",
       "    *   **Potential Scale Buildup:** Can get limescale buildup, requiring periodic cleaning.\n",
       "\n",
       "**2. Stovetop Kettle:**\n",
       "\n",
       "*   **Pros:**\n",
       "    *   **No Electricity Needed:** Can be used on gas, electric, or induction stoves.\n",
       "    *   **Reliable:** Relatively simple and durable.\n",
       "    *   **Variety:** Available in many styles and materials.\n",
       "*   **Cons:**\n",
       "    *   **Slower than Electric Kettles:** Takes longer to heat water.\n",
       "    *   **Requires Supervision:** Need to monitor to prevent boiling dry.\n",
       "    *   **Less Energy Efficient:** More heat is lost to the surrounding environment.\n",
       "\n",
       "**3. Microwave:**\n",
       "\n",
       "*   **Pros:**\n",
       "    *   **Fast (for Small Amounts):** Can be quick for heating a single cup.\n",
       "    *   **Convenient:** If you have a microwave readily available.\n",
       "*   **Cons:**\n",
       "    *   **Uneven Heating:** Can cause \"superheating,\" where the water gets hotter than its boiling point but doesn't boil, then suddenly erupts when disturbed. **This is a safety hazard and requires extreme caution!** Always use a microwave-safe container and never leave the water unattended. Consider adding a wooden spoon or chopstick to the cup to provide nucleation sites for safer boiling.\n",
       "    *   **Not Ideal for Large Amounts:** Not efficient for boiling a lot of water.\n",
       "    *   **Doesn't Kill All Bacteria (at the same temperature):** It's better to boil for a longer period on a stovetop if you're trying to purify water.\n",
       "\n",
       "**4. Stovetop Pot (Without a Kettle):**\n",
       "\n",
       "*   **Pros:**\n",
       "    *   **Versatile:** Use any pot you have.\n",
       "    *   **No Special Equipment Needed:** Requires only a heat source and a pot.\n",
       "*   **Cons:**\n",
       "    *   **Slowest Method:** Takes the longest to boil water.\n",
       "    *   **Less Energy Efficient:** Significant heat loss.\n",
       "    *   **More Difficult to Monitor:** Harder to tell when the water is boiling.\n",
       "\n",
       "**Summary Table:**\n",
       "\n",
       "| Method          | Speed  | Convenience | Energy Efficiency | Safety       | Notes                                                                |\n",
       "|-----------------|--------|-------------|-------------------|-------------|-----------------------------------------------------------------------|\n",
       "| Electric Kettle | Fast   | High        | High              | Good (Auto Shut-off) | Best overall for most situations.                                     |\n",
       "| Stovetop Kettle | Medium | Medium      | Medium             | Okay (Requires Supervision) | Good alternative if you don't have electricity.                     |\n",
       "| Microwave       | Fast (small)| Medium      | Low              | **Poor (Superheating Risk!)** | Only recommended for small amounts with extreme caution.     |\n",
       "| Stovetop Pot    | Slow   | Low         | Low              | Okay (Requires Supervision) | Use as a last resort if you don't have other options.                 |\n",
       "\n",
       "**Recommendations based on needs:**\n",
       "\n",
       "*   **Fastest, most convenient, and energy-efficient for regular use:** **Electric Kettle**\n",
       "*   **No electricity available:** **Stovetop Kettle**\n",
       "*   **Just need a small amount quickly, and safety is paramount:** **Microwave with EXTREME CAUTION (or avoid it altogether)**\n",
       "*   **No special equipment, and time/energy efficiency aren't concerns:** **Stovetop Pot**\n",
       "\n",
       "**Therefore, for most people and most situations, the electric kettle is the best method for boiling water.**  It balances speed, convenience, energy efficiency, and safety effectively.\n"
      ],
      "text/plain": [
       "<IPython.core.display.Markdown object>"
      ]
     },
     "metadata": {},
     "output_type": "display_data"
    }
   ],
   "source": [
    "prompt = \"What's the best method of boiling water?\"\n",
    "\n",
    "response = client.models.generate_content(model=MODEL_ID, contents=prompt)\n",
    "display(Markdown(response.text))"
   ]
  },
  {
   "cell_type": "code",
   "execution_count": 13,
   "metadata": {
    "id": "KwUzhud4aA89",
    "tags": []
   },
   "outputs": [
    {
     "data": {
      "text/markdown": [
       "The sky is blue due to a phenomenon called **Rayleigh scattering**. Here's a breakdown:\n",
       "\n",
       "*   **Sunlight and the Atmosphere:** Sunlight, which appears white, is actually made up of all the colors of the rainbow. When sunlight enters the Earth's atmosphere, it collides with air molecules (mostly nitrogen and oxygen).\n",
       "\n",
       "*   **Scattering of Light:** This collision causes the light to scatter in different directions. The amount of scattering depends on the wavelength (color) of the light.\n",
       "\n",
       "*   **Rayleigh Scattering and Wavelength:** Rayleigh scattering is most effective when the particles are much smaller than the wavelength of the light. This type of scattering is much more effective at scattering shorter wavelengths (blue and violet light) than longer wavelengths (red and orange light).\n",
       "\n",
       "*   **Why Blue, Not Violet?** Violet light has an even shorter wavelength than blue light, so it's scattered even more. However, several factors contribute to why we see a blue sky instead of a violet sky:\n",
       "\n",
       "    *   The sun emits less violet light than blue light.\n",
       "    *   Our eyes are more sensitive to blue light than violet light.\n",
       "    *   The atmosphere absorbs some of the violet light.\n",
       "\n",
       "*   **The Result:** Because blue light is scattered more effectively than other colors, it's scattered all over the sky. When we look up, we see this scattered blue light, which is why the sky appears blue.\n",
       "\n",
       "**In summary, the sky is blue because the shorter wavelengths of blue light are scattered more by the atmosphere than other colors, making blue light more visible to our eyes.**"
      ],
      "text/plain": [
       "<IPython.core.display.Markdown object>"
      ]
     },
     "metadata": {},
     "output_type": "display_data"
    }
   ],
   "source": [
    "prompt = \"Why is the sky blue?\"\n",
    "\n",
    "response = client.models.generate_content(model=MODEL_ID, contents=prompt)\n",
    "display(Markdown(response.text))"
   ]
  },
  {
   "cell_type": "markdown",
   "metadata": {
    "id": "PJIL2RTQaGcT"
   },
   "source": [
    "### Watch out for hallucinations"
   ]
  },
  {
   "cell_type": "markdown",
   "metadata": {
    "id": "8Y8kYxrSaHE9"
   },
   "source": [
    "Although LLMs have been trained on a large amount of data, they can generate text containing statements not grounded in truth or reality; these responses from the LLM are often referred to as \"hallucinations\" due to their limited memorization capabilities. Note that simply prompting the LLM to provide a citation isn't a fix to this problem, as there are instances of LLMs providing false or inaccurate citations. Dealing with hallucinations is a fundamental challenge of LLMs and an ongoing research area, so it is important to be cognizant that LLMs may seem to give you confident, correct-sounding statements that are in fact incorrect.\n",
    "\n",
    "Note that if you intend to use LLMs for the creative use cases, hallucinating could actually be quite useful."
   ]
  },
  {
   "cell_type": "markdown",
   "metadata": {
    "id": "8NY5nAGeaJYS"
   },
   "source": [
    "Try the prompt like the one below repeatedly. We set the temperature to `1.0` so that it takes more risks in its choices. It's possible that it may provide an inaccurate, but confident answer."
   ]
  },
  {
   "cell_type": "code",
   "execution_count": 14,
   "metadata": {
    "id": "QALPjEILaM62",
    "tags": []
   },
   "outputs": [
    {
     "data": {
      "text/markdown": [
       "I do not have access to real-time information, including the current date. To find out what day it is, please check a calendar or search online.\n"
      ],
      "text/plain": [
       "<IPython.core.display.Markdown object>"
      ]
     },
     "metadata": {},
     "output_type": "display_data"
    }
   ],
   "source": [
    "generation_config = GenerateContentConfig(temperature=1.0)\n",
    "\n",
    "prompt = \"What day is it today?\"\n",
    "\n",
    "response = client.models.generate_content(model=MODEL_ID, contents=prompt)\n",
    "display(Markdown(response.text))"
   ]
  },
  {
   "cell_type": "markdown",
   "metadata": {
    "id": "BRkwzbgRbhKt"
   },
   "source": [
    "Since LLMs do not have access to real-time information without further integrations, you may have noticed it hallucinates what day it is today in some of the outputs."
   ]
  },
  {
   "cell_type": "markdown",
   "metadata": {},
   "source": [
    "## Reduce Output Variability"
   ]
  },
  {
   "cell_type": "markdown",
   "metadata": {
    "id": "3c811e310d02"
   },
   "source": [
    "### Using system instructions to guardrail the model from irrelevant responses\n",
    "\n",
    "How can we attempt to reduce the chances of irrelevant responses and hallucinations?\n",
    "\n",
    "One way is to provide the LLM with [system instructions](https://cloud.google.com/vertex-ai/generative-ai/docs/multimodal/send-chat-prompts-gemini#system-instructions).\n",
    "\n",
    "Let's see how system instructions works and how you can use them to reduce hallucinations or irrelevant questions for a travel chatbot.\n",
    "\n",
    "Suppose we ask a simple question about one of Italy's most famous tourist spots."
   ]
  },
  {
   "cell_type": "code",
   "execution_count": null,
   "metadata": {
    "id": "rB6zJU76biFK",
    "tags": []
   },
   "outputs": [],
   "source": [
    "generation_config = GenerateContentConfig(temperature=1.0)\n",
    "\n",
    "chat = client.chats.create(\n",
    "    model=MODEL_ID,\n",
    "    config=GenerateContentConfig(\n",
    "        system_instruction=[\n",
    "            \"Hello! You are an AI chatbot for a travel web site.\",\n",
    "            \"Your mission is to provide helpful queries for travelers.\",\n",
    "            \"Remember that before you answer a question, you must check to see if it complies with your mission.\",\n",
    "            \"If not, you can say, Sorry I can't answer that question.\",\n",
    "        ]\n",
    "    ),\n",
    ")\n",
    "\n",
    "prompt = \"What is the best place for sightseeing in Milan, Italy?\"\n",
    "\n",
    "response = chat.send_message(prompt)\n",
    "display(Markdown(response.text))"
   ]
  },
  {
   "cell_type": "markdown",
   "metadata": {
    "id": "WZa-Qcf9cF4A"
   },
   "source": [
    "Now let us pretend to be a user asks the chatbot a question that is unrelated to travel."
   ]
  },
  {
   "cell_type": "code",
   "execution_count": null,
   "metadata": {
    "id": "AZKBIDr2cGnu"
   },
   "outputs": [],
   "source": [
    "prompt = \"What is the best place for sightseeing in Milan, Italy?\"\n",
    "\n",
    "response = chat.send_message(prompt)\n",
    "display(Markdown(response.text))"
   ]
  },
  {
   "cell_type": "markdown",
   "metadata": {
    "id": "JiUYIhwpctCy"
   },
   "source": [
    "You can see that this way, a guardrail in the prompt prevented the chatbot from veering off course."
   ]
  },
  {
   "cell_type": "markdown",
   "metadata": {
    "id": "ZuuDhA37cvmP"
   },
   "source": [
    "### Turn generative tasks into classification tasks to reduce output variability"
   ]
  },
  {
   "cell_type": "markdown",
   "metadata": {
    "id": "kUCUrsUzczmb"
   },
   "source": [
    "#### Generative tasks lead to higher output variability"
   ]
  },
  {
   "cell_type": "markdown",
   "metadata": {
    "id": "a1xASHAkc46n"
   },
   "source": [
    "The prompt below results in an open-ended response, useful for brainstorming, but response is highly variable."
   ]
  },
  {
   "cell_type": "code",
   "execution_count": null,
   "metadata": {
    "id": "nPfXQWIacwRf"
   },
   "outputs": [],
   "source": [
    "prompt = \"I'm a high school student. Recommend me a programming activity to improve my skills.\"\n",
    "\n",
    "response = client.models.generate_content(model=MODEL_ID, contents=prompt)\n",
    "display(Markdown(response.text))"
   ]
  },
  {
   "cell_type": "markdown",
   "metadata": {
    "id": "iAmm9wPYc_1o"
   },
   "source": [
    "#### Classification tasks reduces output variability"
   ]
  },
  {
   "cell_type": "markdown",
   "metadata": {
    "id": "VvRpK_0GdCpf"
   },
   "source": [
    "The prompt below results in a choice and may be useful if you want the output to be easier to control."
   ]
  },
  {
   "cell_type": "code",
   "execution_count": null,
   "metadata": {
    "id": "kYDKh0r2dAqo"
   },
   "outputs": [],
   "source": [
    "prompt = \"\"\"I'm a high school student. Which of these activities do you suggest and why:\n",
    "a) learn Python\n",
    "b) learn JavaScript\n",
    "c) learn Fortran\n",
    "\"\"\"\n",
    "\n",
    "response = client.models.generate_content(model=MODEL_ID, contents=prompt)\n",
    "display(Markdown(response.text))"
   ]
  },
  {
   "cell_type": "markdown",
   "metadata": {
    "id": "iTd60b1GdIsx"
   },
   "source": [
    "### Improve response quality by including examples"
   ]
  },
  {
   "cell_type": "markdown",
   "metadata": {
    "id": "yJi44NejdJYE"
   },
   "source": [
    "Another way to improve response quality is to add examples in your prompt. The LLM learns in-context from the examples on how to respond. Typically, one to five examples (shots) are enough to improve the quality of responses. Including too many examples can cause the model to over-fit the data and reduce the quality of responses.\n",
    "\n",
    "Similar to classical model training, the quality and distribution of the examples is very important. Pick examples that are representative of the scenarios that you need the model to learn, and keep the distribution of the examples (e.g. number of examples per class in the case of classification) aligned with your actual distribution."
   ]
  },
  {
   "cell_type": "markdown",
   "metadata": {
    "id": "sMbLginWdOKs"
   },
   "source": [
    "#### Zero-shot prompt"
   ]
  },
  {
   "cell_type": "markdown",
   "metadata": {
    "id": "Crh2Loi2dQ0v"
   },
   "source": [
    "Below is an example of zero-shot prompting, where you don't provide any examples to the LLM within the prompt itself."
   ]
  },
  {
   "cell_type": "code",
   "execution_count": null,
   "metadata": {
    "id": "-7myRc-SdTQ4"
   },
   "outputs": [],
   "source": [
    "prompt = \"\"\"Decide whether a Tweet's sentiment is positive, neutral, or negative.\n",
    "\n",
    "Tweet: I loved the new YouTube video you made!\n",
    "Sentiment:\n",
    "\"\"\"\n",
    "\n",
    "response = client.models.generate_content(model=MODEL_ID, contents=prompt)\n",
    "display(Markdown(response.text))"
   ]
  },
  {
   "cell_type": "markdown",
   "metadata": {
    "id": "ucRtPn9SdL64"
   },
   "source": [
    "#### One-shot prompt"
   ]
  },
  {
   "cell_type": "markdown",
   "metadata": {
    "id": "rs0gQH2vdYBi"
   },
   "source": [
    "Below is an example of one-shot prompting, where you provide one example to the LLM within the prompt to give some guidance on what type of response you want."
   ]
  },
  {
   "cell_type": "code",
   "execution_count": null,
   "metadata": {
    "id": "iEq-KxGYdaT5"
   },
   "outputs": [],
   "source": [
    "prompt = \"\"\"Decide whether a Tweet's sentiment is positive, neutral, or negative.\n",
    "\n",
    "Tweet: I loved the new YouTube video you made!\n",
    "Sentiment: positive\n",
    "\n",
    "Tweet: That was awful. Super boring 😠\n",
    "Sentiment:\n",
    "\"\"\"\n",
    "\n",
    "response = client.models.generate_content(model=MODEL_ID, contents=prompt)\n",
    "display(Markdown(response.text))"
   ]
  },
  {
   "cell_type": "markdown",
   "metadata": {
    "id": "JnKLjJzmdfL_"
   },
   "source": [
    "#### Few-shot prompt"
   ]
  },
  {
   "cell_type": "markdown",
   "metadata": {
    "id": "6Zv-9F5OdgI_"
   },
   "source": [
    "Below is an example of few-shot prompting, where you provide a few examples to the LLM within the prompt to give some guidance on what type of response you want."
   ]
  },
  {
   "cell_type": "code",
   "execution_count": null,
   "metadata": {
    "id": "u37P9tG4dk9S"
   },
   "outputs": [],
   "source": [
    "prompt = \"\"\"Decide whether a Tweet's sentiment is positive, neutral, or negative.\n",
    "\n",
    "Tweet: I loved the new YouTube video you made!\n",
    "Sentiment: positive\n",
    "\n",
    "Tweet: That was awful. Super boring 😠\n",
    "Sentiment: negative\n",
    "\n",
    "Tweet: Something surprised me about this video - it was actually original. It was not the same old recycled stuff that I always see. Watch it - you will not regret it.\n",
    "Sentiment:\n",
    "\"\"\"\n",
    "\n",
    "response = client.models.generate_content(model=MODEL_ID, contents=prompt)\n",
    "display(Markdown(response.text))"
   ]
  },
  {
   "cell_type": "markdown",
   "metadata": {
    "id": "wDMD3xb2dvX6"
   },
   "source": [
    "#### Choosing between zero-shot, one-shot, few-shot prompting methods"
   ]
  },
  {
   "cell_type": "markdown",
   "metadata": {
    "id": "s92W0YpNdxJp"
   },
   "source": [
    "Which prompt technique to use will solely depends on your goal. The zero-shot prompts are more open-ended and can give you creative answers, while one-shot and few-shot prompts teach the model how to behave so you can get more predictable answers that are consistent with the examples provided."
   ]
  }
 ],
 "metadata": {
  "colab": {
   "name": "intro_prompt_design.ipynb",
   "toc_visible": true
  },
  "environment": {
   "kernel": "conda-base-py",
   "name": "workbench-notebooks.m128",
   "type": "gcloud",
   "uri": "us-docker.pkg.dev/deeplearning-platform-release/gcr.io/workbench-notebooks:m128"
  },
  "kernelspec": {
   "display_name": "Python 3 (ipykernel) (Local)",
   "language": "python",
   "name": "conda-base-py"
  },
  "language_info": {
   "codemirror_mode": {
    "name": "ipython",
    "version": 3
   },
   "file_extension": ".py",
   "mimetype": "text/x-python",
   "name": "python",
   "nbconvert_exporter": "python",
   "pygments_lexer": "ipython3",
   "version": "3.10.16"
  }
 },
 "nbformat": 4,
 "nbformat_minor": 4
}
